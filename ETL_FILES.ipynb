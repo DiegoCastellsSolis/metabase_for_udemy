{
 "cells": [
  {
   "cell_type": "code",
   "execution_count": 3,
   "metadata": {},
   "outputs": [],
   "source": [
    "import pandas as pd\n",
    "from sqlalchemy import create_engine, Table, MetaData\n",
    "from sqlalchemy.types import String, Integer, Float, DateTime\n",
    "import os"
   ]
  },
  {
   "cell_type": "code",
   "execution_count": 4,
   "metadata": {},
   "outputs": [],
   "source": [
    "# Función para detectar el tipo de dato de pandas y convertirlo en un tipo SQL compatible\n",
    "def detect_sqlalchemy_type(col_dtype):\n",
    "    if pd.api.types.is_integer_dtype(col_dtype):\n",
    "        return Integer()\n",
    "    elif pd.api.types.is_float_dtype(col_dtype):\n",
    "        return Float()\n",
    "    elif pd.api.types.is_datetime64_any_dtype(col_dtype):\n",
    "        return DateTime()\n",
    "    else:\n",
    "        return String()  # Cualquier otro tipo será tratado como texto"
   ]
  },
  {
   "cell_type": "code",
   "execution_count": 5,
   "metadata": {},
   "outputs": [],
   "source": [
    "# Función para crear una tabla con el esquema detectado\n",
    "def create_table_from_dataframe(df, table_name, engine):\n",
    "    metadata = MetaData()\n",
    "    columns = []\n",
    "    for col_name, col_dtype in df.dtypes.items():\n",
    "        col_type = detect_sqlalchemy_type(col_dtype)\n",
    "        columns.append((col_name, col_type))\n",
    "    \n",
    "    # Crear la tabla en la base de datos\n",
    "    table = Table(\n",
    "        table_name,\n",
    "        metadata,\n",
    "        *[Column(col_name, col_type) for col_name, col_type in columns]\n",
    "    )\n",
    "    \n",
    "    metadata.create_all(engine)"
   ]
  },
  {
   "cell_type": "code",
   "execution_count": null,
   "metadata": {},
   "outputs": [],
   "source": [
    "def main():\n",
    "    # Conexión a la base de datos PostgreSQL\n",
    "    user = 'postgres'\n",
    "    password = 'postgres'\n",
    "    host = 'postgres'\n",
    "    port = '5432'\n",
    "    database = 'dw'\n",
    "    \n",
    "    engine = create_engine(f'postgresql://{user}:{password}@{host}:{port}/{database}')\n",
    "    \n",
    "    # Ruta del archivo a leer (puede ser CSV o Excel)\n",
    "    file_path = './data/experiencias_por_pais.csv'  # O .xlsx para Excel\n",
    "    \n",
    "    # Detectar el formato y cargar el archivo\n",
    "    file_ext = os.path.splitext(file_path)[1]\n",
    "    if file_ext == '.csv':\n",
    "        df = pd.read_csv(file_path)\n",
    "    elif file_ext in ['.xls', '.xlsx']:\n",
    "        df = pd.read_excel(file_path)\n",
    "    else:\n",
    "        raise ValueError(f'Formato de archivo no soportado: {file_ext}')\n",
    "    \n",
    "    # Nombre de la tabla en la base de datos\n",
    "    table_name = 'staging.nombre_tabla_en_postgres'\n",
    "    \n",
    "    # Crear la tabla en PostgreSQL con el esquema detectado\n",
    "    create_table_from_dataframe(df, table_name, engine)\n",
    "    \n",
    "    # Insertar los datos en la tabla\n",
    "    df.to_sql(table_name, engine, if_exists='replace', index=False)\n",
    "\n",
    "    print(f'Tabla \"{table_name}\" creada y datos insertados correctamente.')"
   ]
  },
  {
   "cell_type": "code",
   "execution_count": null,
   "metadata": {},
   "outputs": [],
   "source": [
    "if __name__ == '__main__':\n",
    "    main()"
   ]
  }
 ],
 "metadata": {
  "kernelspec": {
   "display_name": "Python 3",
   "language": "python",
   "name": "python3"
  },
  "language_info": {
   "codemirror_mode": {
    "name": "ipython",
    "version": 3
   },
   "file_extension": ".py",
   "mimetype": "text/x-python",
   "name": "python",
   "nbconvert_exporter": "python",
   "pygments_lexer": "ipython3",
   "version": "3.10.11"
  }
 },
 "nbformat": 4,
 "nbformat_minor": 2
}
