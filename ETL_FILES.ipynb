{
 "cells": [
  {
   "cell_type": "code",
   "execution_count": 1,
   "metadata": {},
   "outputs": [],
   "source": [
    "import pandas as pd\n",
    "import numpy as np"
   ]
  },
  {
   "cell_type": "code",
   "execution_count": 2,
   "metadata": {},
   "outputs": [],
   "source": [
    "df = pd.read_csv(\n",
    "    'C:/Users/Diego/Desktop/UDEMY/metabase_for_udemy/data/sales_detail.csv', \n",
    "    encoding='latin1', \n",
    "    index_col=False\n",
    ")"
   ]
  },
  {
   "cell_type": "code",
   "execution_count": 3,
   "metadata": {},
   "outputs": [],
   "source": [
    "df = df.drop(columns=['status'])"
   ]
  },
  {
   "cell_type": "code",
   "execution_count": 4,
   "metadata": {},
   "outputs": [],
   "source": [
    "purchase_states = {\n",
    "    1: {\"Pending\"},    # Pendiente\n",
    "    2: {\"Confirmed\"},  # Confirmado\n",
    "    3: {\"Shipped\"},    # Enviado\n",
    "    4: {\"Delivered\"},  # Entregado\n",
    "    5: {\"Returned\"}    # Devuelto\n",
    "}\n",
    "\n",
    "allowed_states = [\"Pending\",\"Confirmed\",\"Shipped\",\"Delivered\",\"Returned\"]\n"
   ]
  },
  {
   "cell_type": "code",
   "execution_count": 5,
   "metadata": {},
   "outputs": [],
   "source": [
    "# Extraer solo los valores (estados) del diccionario\n",
    "states = list(purchase_states.values())\n",
    "\n",
    "# Agregar la columna 'status' con un estado aleatorio para cada fila\n",
    "df['status'] = np.random.choice(allowed_states, size=len(df))\n"
   ]
  },
  {
   "cell_type": "code",
   "execution_count": 6,
   "metadata": {},
   "outputs": [],
   "source": [
    "# Crear un diccionario que mapea 'codcli' a 'name_complete'\n",
    "name_dict = {\n",
    "    1: 'Juan Carlos González',\n",
    "    2: 'María Fernanda López',\n",
    "    3: 'José Manuel Rodríguez',\n",
    "    4: 'Ana Patricia Martínez',\n",
    "    5: 'Carlos Eduardo Pérez',\n",
    "    6: 'Luisa Margarita Ramírez',\n",
    "    7: 'Pedro Antonio Gutiérrez',\n",
    "    8: 'Rosa Elena Fernández',\n",
    "    9: 'Jorge Alberto Vargas',\n",
    "    10: 'Gabriela Mercedes Pineda',\n",
    "    11: 'Daniel Esteban Morales',\n",
    "    12: 'Camila Sofía Castillo',\n",
    "    13: 'Ricardo Emilio Sánchez',\n",
    "    14: 'Adriana Isabel Jiménez',\n",
    "    15: 'Fernando Andrés Ortega',\n",
    "    16: 'Valeria Beatriz Herrera',\n",
    "    17: 'Oscar David Salinas',\n",
    "    18: 'Margarita Susana Rivas',\n",
    "    19: 'Diego Alejandro Núñez',\n",
    "    20: 'Claudia Josefina Torres',\n",
    "    21: 'Rafael Enrique Ruiz',\n",
    "    22: 'Silvia Alejandra Flores',\n",
    "    23: 'Andrés Javier Mendoza',\n",
    "    24: 'Laura Beatriz Mejía'\n",
    "}"
   ]
  },
  {
   "cell_type": "code",
   "execution_count": 7,
   "metadata": {},
   "outputs": [],
   "source": [
    "# Asignar la columna 'name_complete' usando el mapeo del diccionario\n",
    "df['name_complete'] = df['CODCLI'].map(name_dict)"
   ]
  },
  {
   "cell_type": "code",
   "execution_count": 8,
   "metadata": {},
   "outputs": [
    {
     "data": {
      "text/html": [
       "<div>\n",
       "<style scoped>\n",
       "    .dataframe tbody tr th:only-of-type {\n",
       "        vertical-align: middle;\n",
       "    }\n",
       "\n",
       "    .dataframe tbody tr th {\n",
       "        vertical-align: top;\n",
       "    }\n",
       "\n",
       "    .dataframe thead th {\n",
       "        text-align: right;\n",
       "    }\n",
       "</style>\n",
       "<table border=\"1\" class=\"dataframe\">\n",
       "  <thead>\n",
       "    <tr style=\"text-align: right;\">\n",
       "      <th></th>\n",
       "      <th>CODCLI</th>\n",
       "      <th>CODART</th>\n",
       "      <th>Cliente</th>\n",
       "      <th>Pais</th>\n",
       "      <th>Comunidad autÃ³noma</th>\n",
       "      <th>Provincia</th>\n",
       "      <th>Zona</th>\n",
       "      <th>ArtÃ­culo</th>\n",
       "      <th>Serie</th>\n",
       "      <th>Nfactura</th>\n",
       "      <th>Fecha</th>\n",
       "      <th>Unidades</th>\n",
       "      <th>Precio</th>\n",
       "      <th>Costo</th>\n",
       "      <th>status</th>\n",
       "      <th>name_complete</th>\n",
       "    </tr>\n",
       "  </thead>\n",
       "  <tbody>\n",
       "    <tr>\n",
       "      <th>0</th>\n",
       "      <td>3</td>\n",
       "      <td>1</td>\n",
       "      <td>CARLOS HUMBERTO GARCIA MERCADO</td>\n",
       "      <td>NICARAGUA</td>\n",
       "      <td>CARAZO</td>\n",
       "      <td>CARAZO</td>\n",
       "      <td>Centro</td>\n",
       "      <td>Bicicleta carrera</td>\n",
       "      <td>S2</td>\n",
       "      <td>1</td>\n",
       "      <td>41279</td>\n",
       "      <td>8</td>\n",
       "      <td>551,02</td>\n",
       "      <td>418,78</td>\n",
       "      <td>Pending</td>\n",
       "      <td>José Manuel Rodríguez</td>\n",
       "    </tr>\n",
       "    <tr>\n",
       "      <th>1</th>\n",
       "      <td>3</td>\n",
       "      <td>2</td>\n",
       "      <td>CARLOS HUMBERTO GARCIA MERCADO</td>\n",
       "      <td>NICARAGUA</td>\n",
       "      <td>CARAZO</td>\n",
       "      <td>CARAZO</td>\n",
       "      <td>Centro</td>\n",
       "      <td>Bicicleta mountain infantil</td>\n",
       "      <td>S2</td>\n",
       "      <td>2</td>\n",
       "      <td>41280</td>\n",
       "      <td>22</td>\n",
       "      <td>116,99</td>\n",
       "      <td>98,27</td>\n",
       "      <td>Shipped</td>\n",
       "      <td>José Manuel Rodríguez</td>\n",
       "    </tr>\n",
       "  </tbody>\n",
       "</table>\n",
       "</div>"
      ],
      "text/plain": [
       "   CODCLI  CODART                         Cliente       Pais  \\\n",
       "0       3       1  CARLOS HUMBERTO GARCIA MERCADO  NICARAGUA   \n",
       "1       3       2  CARLOS HUMBERTO GARCIA MERCADO  NICARAGUA   \n",
       "\n",
       "  Comunidad autÃ³noma Provincia    Zona                    ArtÃ­culo Serie  \\\n",
       "0              CARAZO    CARAZO  Centro            Bicicleta carrera    S2   \n",
       "1              CARAZO    CARAZO  Centro  Bicicleta mountain infantil    S2   \n",
       "\n",
       "   Nfactura  Fecha  Unidades  Precio   Costo   status          name_complete  \n",
       "0         1  41279         8  551,02  418,78  Pending  José Manuel Rodríguez  \n",
       "1         2  41280        22  116,99   98,27  Shipped  José Manuel Rodríguez  "
      ]
     },
     "execution_count": 8,
     "metadata": {},
     "output_type": "execute_result"
    }
   ],
   "source": [
    "df.head(2)"
   ]
  },
  {
   "cell_type": "code",
   "execution_count": 9,
   "metadata": {},
   "outputs": [],
   "source": [
    "# Sobrescribir el archivo CSV con el DataFrame actualizado\n",
    "df.to_csv('./data/sales_detail.csv', index=False)"
   ]
  }
 ],
 "metadata": {
  "kernelspec": {
   "display_name": "Python 3",
   "language": "python",
   "name": "python3"
  },
  "language_info": {
   "codemirror_mode": {
    "name": "ipython",
    "version": 3
   },
   "file_extension": ".py",
   "mimetype": "text/x-python",
   "name": "python",
   "nbconvert_exporter": "python",
   "pygments_lexer": "ipython3",
   "version": "3.10.11"
  }
 },
 "nbformat": 4,
 "nbformat_minor": 2
}
